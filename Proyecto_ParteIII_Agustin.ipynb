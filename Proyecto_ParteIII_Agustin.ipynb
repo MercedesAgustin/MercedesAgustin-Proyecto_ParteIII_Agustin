{
  "nbformat": 4,
  "nbformat_minor": 0,
  "metadata": {
    "colab": {
      "provenance": []
    },
    "kernelspec": {
      "name": "python3",
      "display_name": "Python 3"
    },
    "language_info": {
      "name": "python"
    }
  },
  "cells": [
    {
      "cell_type": "code",
      "execution_count": null,
      "metadata": {
        "id": "3B_vqBojo5eY"
      },
      "outputs": [],
      "source": []
    },
    {
      "cell_type": "markdown",
      "source": [
        "# Proyecto de Data Science - Parte III\n",
        "# **AUTOPISTAS AUSA**\n",
        "\n",
        "# Definición del objetivo del proyecto\n",
        "\n",
        "El objetivo principal de este proyecto es analizar los siniestros viales ocurridos en las autopistas de la Ciudad de Buenos Aires,\n",
        "con el fin de identificar patrones significativos que permitan no solo comprender las características y la frecuencia de los accidentes,\n",
        "sino también predecir las características de futuros siniestros viales. Para lograr esto, se empleará un modelo de clasificación basado en\n",
        "Random Forest, un algoritmo de aprendizaje automático que es particularmente útil para la predicción y la clasificación en grandes volúmenes de datos.\n",
        "\n",
        "\n",
        "# Contexto comercial\n",
        "\n",
        "En la Ciudad de Buenos Aires, las autopistas representan una parte crucial de la infraestructura vial, siendo arterias principales para\n",
        "el flujo vehicular. Sin embargo, las autopistas también presentan desafíos significativos relacionados con la seguridad vial. La\n",
        "frecuencia de los accidentes viales en las autopistas, especialmente aquellos que resultan en víctimas fatales o lesiones graves, tiene\n",
        "repercusiones significativas para los residentes de la ciudad, los conductores y los servicios de emergencia.\n",
        "\n",
        "Este proyecto tiene como fin proporcionar insights clave sobre los factores que contribuyen a los accidentes y su frecuencia. De esta manera,\n",
        "se busca equipar a las autoridades locales con la información necesaria para tomar decisiones informadas y reducir los riesgos y costos operativos.\n",
        "\n",
        "\n",
        "# Problema comercial\n",
        "\n",
        "El principal problema comercial que enfrenta la Ciudad de Buenos Aires y sus autoridades viales es la falta de un sistema eficiente para\n",
        "predecir el comportamiento de los siniestros viales en las autopistas de la ciudad. Sin esta capacidad predictiva, se dificulta la\n",
        "implementación de medidas preventivas y correctivas basadas en datos concretos.\n",
        "\n",
        "Este proyecto busca llenar ese vacío, proporcionando un modelo predictivo basado en datos históricos que ayudará a predecir las características\n",
        "de los siniestros, como la ubicación, la gravedad, la hora y las condiciones de tráfico, lo que permitirá a las autoridades implementar\n",
        "acciones preventivas más efectivas.\n",
        "\n",
        "\n",
        "# Contexto analítico\n",
        "\n",
        "Este proyecto se apoya en un dataset detallado que contiene información sobre los siniestros viales ocurridos en las autopistas de la Ciudad\n",
        "de Buenos Aires. El dataset incluye una amplia gama de variables que son clave para el análisis y la predicción de accidentes, tales como:\n",
        "\n",
        "- **Condiciones climáticas:** Información sobre si el accidente ocurrió bajo lluvia, niebla, altas temperaturas u otras condiciones meteorológicas adversas.\n",
        "- **Tipo de vehículo involucrado:** Detalles sobre los vehículos que participaron en los accidentes (por ejemplo, autos particulares, camiones, motocicletas).\n",
        "- **Horario del accidente:** Información detallada sobre la hora exacta en la que ocurrió cada siniestro.\n",
        "- **Número de víctimas:** Información sobre las víctimas, tanto fatales como lesionadas, que estuvieron involucradas en cada accidente.\n",
        "- **Autopistas específicas:** Información sobre las autopistas donde ocurrieron los siniestros, lo cual es crucial para identificar puntos críticos o zonas con mayor frecuencia de accidentes.\n",
        "\n",
        "El análisis de este dataset permitirá descubrir patrones relevantes que puedan predecir las características de los accidentes y su gravedad.\n"
      ],
      "metadata": {
        "id": "Wt36SqdVo5_J"
      }
    },
    {
      "cell_type": "code",
      "source": [
        "# Importación de librerías\n",
        "import pandas as pd\n",
        "import numpy as np\n",
        "import matplotlib.pyplot as plt\n",
        "import seaborn as sns\n",
        "from sklearn.model_selection import train_test_split\n",
        "from sklearn.ensemble import RandomForestClassifier\n",
        "from sklearn.feature_selection import SelectKBest, chi2\n",
        "from sklearn.metrics import classification_report, confusion_matrix, accuracy_score"
      ],
      "metadata": {
        "id": "hw3gEevzpTCU"
      },
      "execution_count": 1,
      "outputs": []
    },
    {
      "cell_type": "code",
      "source": [
        "# Carga del Dataset\n",
        "from google.colab import files\n",
        "\n",
        "uploaded = files.upload()\n",
        "dataset_path = list(uploaded.keys())[0]"
      ],
      "metadata": {
        "colab": {
          "base_uri": "https://localhost:8080/",
          "height": 73
        },
        "id": "4FXf70yjpZ6T",
        "outputId": "6d18aa4e-23c2-4b70-ef8b-3ed7d6335fd6"
      },
      "execution_count": 5,
      "outputs": [
        {
          "output_type": "display_data",
          "data": {
            "text/plain": [
              "<IPython.core.display.HTML object>"
            ],
            "text/html": [
              "\n",
              "     <input type=\"file\" id=\"files-3badb524-7a67-4255-bbe7-b1b2363edaf9\" name=\"files[]\" multiple disabled\n",
              "        style=\"border:none\" />\n",
              "     <output id=\"result-3badb524-7a67-4255-bbe7-b1b2363edaf9\">\n",
              "      Upload widget is only available when the cell has been executed in the\n",
              "      current browser session. Please rerun this cell to enable.\n",
              "      </output>\n",
              "      <script>// Copyright 2017 Google LLC\n",
              "//\n",
              "// Licensed under the Apache License, Version 2.0 (the \"License\");\n",
              "// you may not use this file except in compliance with the License.\n",
              "// You may obtain a copy of the License at\n",
              "//\n",
              "//      http://www.apache.org/licenses/LICENSE-2.0\n",
              "//\n",
              "// Unless required by applicable law or agreed to in writing, software\n",
              "// distributed under the License is distributed on an \"AS IS\" BASIS,\n",
              "// WITHOUT WARRANTIES OR CONDITIONS OF ANY KIND, either express or implied.\n",
              "// See the License for the specific language governing permissions and\n",
              "// limitations under the License.\n",
              "\n",
              "/**\n",
              " * @fileoverview Helpers for google.colab Python module.\n",
              " */\n",
              "(function(scope) {\n",
              "function span(text, styleAttributes = {}) {\n",
              "  const element = document.createElement('span');\n",
              "  element.textContent = text;\n",
              "  for (const key of Object.keys(styleAttributes)) {\n",
              "    element.style[key] = styleAttributes[key];\n",
              "  }\n",
              "  return element;\n",
              "}\n",
              "\n",
              "// Max number of bytes which will be uploaded at a time.\n",
              "const MAX_PAYLOAD_SIZE = 100 * 1024;\n",
              "\n",
              "function _uploadFiles(inputId, outputId) {\n",
              "  const steps = uploadFilesStep(inputId, outputId);\n",
              "  const outputElement = document.getElementById(outputId);\n",
              "  // Cache steps on the outputElement to make it available for the next call\n",
              "  // to uploadFilesContinue from Python.\n",
              "  outputElement.steps = steps;\n",
              "\n",
              "  return _uploadFilesContinue(outputId);\n",
              "}\n",
              "\n",
              "// This is roughly an async generator (not supported in the browser yet),\n",
              "// where there are multiple asynchronous steps and the Python side is going\n",
              "// to poll for completion of each step.\n",
              "// This uses a Promise to block the python side on completion of each step,\n",
              "// then passes the result of the previous step as the input to the next step.\n",
              "function _uploadFilesContinue(outputId) {\n",
              "  const outputElement = document.getElementById(outputId);\n",
              "  const steps = outputElement.steps;\n",
              "\n",
              "  const next = steps.next(outputElement.lastPromiseValue);\n",
              "  return Promise.resolve(next.value.promise).then((value) => {\n",
              "    // Cache the last promise value to make it available to the next\n",
              "    // step of the generator.\n",
              "    outputElement.lastPromiseValue = value;\n",
              "    return next.value.response;\n",
              "  });\n",
              "}\n",
              "\n",
              "/**\n",
              " * Generator function which is called between each async step of the upload\n",
              " * process.\n",
              " * @param {string} inputId Element ID of the input file picker element.\n",
              " * @param {string} outputId Element ID of the output display.\n",
              " * @return {!Iterable<!Object>} Iterable of next steps.\n",
              " */\n",
              "function* uploadFilesStep(inputId, outputId) {\n",
              "  const inputElement = document.getElementById(inputId);\n",
              "  inputElement.disabled = false;\n",
              "\n",
              "  const outputElement = document.getElementById(outputId);\n",
              "  outputElement.innerHTML = '';\n",
              "\n",
              "  const pickedPromise = new Promise((resolve) => {\n",
              "    inputElement.addEventListener('change', (e) => {\n",
              "      resolve(e.target.files);\n",
              "    });\n",
              "  });\n",
              "\n",
              "  const cancel = document.createElement('button');\n",
              "  inputElement.parentElement.appendChild(cancel);\n",
              "  cancel.textContent = 'Cancel upload';\n",
              "  const cancelPromise = new Promise((resolve) => {\n",
              "    cancel.onclick = () => {\n",
              "      resolve(null);\n",
              "    };\n",
              "  });\n",
              "\n",
              "  // Wait for the user to pick the files.\n",
              "  const files = yield {\n",
              "    promise: Promise.race([pickedPromise, cancelPromise]),\n",
              "    response: {\n",
              "      action: 'starting',\n",
              "    }\n",
              "  };\n",
              "\n",
              "  cancel.remove();\n",
              "\n",
              "  // Disable the input element since further picks are not allowed.\n",
              "  inputElement.disabled = true;\n",
              "\n",
              "  if (!files) {\n",
              "    return {\n",
              "      response: {\n",
              "        action: 'complete',\n",
              "      }\n",
              "    };\n",
              "  }\n",
              "\n",
              "  for (const file of files) {\n",
              "    const li = document.createElement('li');\n",
              "    li.append(span(file.name, {fontWeight: 'bold'}));\n",
              "    li.append(span(\n",
              "        `(${file.type || 'n/a'}) - ${file.size} bytes, ` +\n",
              "        `last modified: ${\n",
              "            file.lastModifiedDate ? file.lastModifiedDate.toLocaleDateString() :\n",
              "                                    'n/a'} - `));\n",
              "    const percent = span('0% done');\n",
              "    li.appendChild(percent);\n",
              "\n",
              "    outputElement.appendChild(li);\n",
              "\n",
              "    const fileDataPromise = new Promise((resolve) => {\n",
              "      const reader = new FileReader();\n",
              "      reader.onload = (e) => {\n",
              "        resolve(e.target.result);\n",
              "      };\n",
              "      reader.readAsArrayBuffer(file);\n",
              "    });\n",
              "    // Wait for the data to be ready.\n",
              "    let fileData = yield {\n",
              "      promise: fileDataPromise,\n",
              "      response: {\n",
              "        action: 'continue',\n",
              "      }\n",
              "    };\n",
              "\n",
              "    // Use a chunked sending to avoid message size limits. See b/62115660.\n",
              "    let position = 0;\n",
              "    do {\n",
              "      const length = Math.min(fileData.byteLength - position, MAX_PAYLOAD_SIZE);\n",
              "      const chunk = new Uint8Array(fileData, position, length);\n",
              "      position += length;\n",
              "\n",
              "      const base64 = btoa(String.fromCharCode.apply(null, chunk));\n",
              "      yield {\n",
              "        response: {\n",
              "          action: 'append',\n",
              "          file: file.name,\n",
              "          data: base64,\n",
              "        },\n",
              "      };\n",
              "\n",
              "      let percentDone = fileData.byteLength === 0 ?\n",
              "          100 :\n",
              "          Math.round((position / fileData.byteLength) * 100);\n",
              "      percent.textContent = `${percentDone}% done`;\n",
              "\n",
              "    } while (position < fileData.byteLength);\n",
              "  }\n",
              "\n",
              "  // All done.\n",
              "  yield {\n",
              "    response: {\n",
              "      action: 'complete',\n",
              "    }\n",
              "  };\n",
              "}\n",
              "\n",
              "scope.google = scope.google || {};\n",
              "scope.google.colab = scope.google.colab || {};\n",
              "scope.google.colab._files = {\n",
              "  _uploadFiles,\n",
              "  _uploadFilesContinue,\n",
              "};\n",
              "})(self);\n",
              "</script> "
            ]
          },
          "metadata": {}
        },
        {
          "output_type": "stream",
          "name": "stdout",
          "text": [
            "Saving dsdatasetagustin.xlsx to dsdatasetagustin (1).xlsx\n"
          ]
        }
      ]
    },
    {
      "cell_type": "code",
      "source": [
        "import pandas as pd\n",
        "data = pd.read_excel(dataset_path)"
      ],
      "metadata": {
        "id": "YPkMpfX-quQY"
      },
      "execution_count": 8,
      "outputs": []
    },
    {
      "cell_type": "code",
      "source": [
        "# Exploración inicial del dataset\n",
        "print(\"Primeras filas del dataset:\")\n",
        "print(data.head())\n",
        "\n",
        "print(\"\\nInformación general del dataset:\")\n",
        "print(data.info())\n",
        "\n",
        "print(\"\\nEstadísticas descriptivas del dataset:\")\n",
        "print(data.describe())"
      ],
      "metadata": {
        "colab": {
          "base_uri": "https://localhost:8080/"
        },
        "id": "UksHS2TPq3nf",
        "outputId": "cf2ab5f7-88c5-4768-dcab-07284697b1ab"
      },
      "execution_count": 9,
      "outputs": [
        {
          "output_type": "stream",
          "name": "stdout",
          "text": [
            "Primeras filas del dataset:\n",
            "       fecha  hora         autopista  clima superficie  lesionados  \\\n",
            "0 2023-01-02     8  DIST. 9 DE JULIO  BUENO       SECA           1   \n",
            "1 2023-01-03    14       AV. CANTILO  BUENO       SECA           1   \n",
            "2 2023-01-03    14     AU DELLEPIANE  BUENO       SECA           0   \n",
            "3 2023-01-05    14       AU FRONDIZI  BUENO       SECA           1   \n",
            "4 2023-01-05    17     AU 25 DE MAYO  BUENO       SECA           1   \n",
            "\n",
            "   fallecidos                                     siniestro  moto  liviano  \\\n",
            "0           0  SINIESTRO DE UN SOLO VEHICULO / SIN COLISION     1        0   \n",
            "1           0              COLISION CON DOS O MAS VEHICULOS     0        2   \n",
            "2           0                             OBSTACULO NO FIJO     0        1   \n",
            "3           0              COLISION CON DOS O MAS VEHICULOS     1        1   \n",
            "4           0              COLISION CON DOS O MAS VEHICULOS     1        1   \n",
            "\n",
            "   bus  camion  \n",
            "0    0       0  \n",
            "1    0       0  \n",
            "2    0       0  \n",
            "3    0       0  \n",
            "4    0       0  \n",
            "\n",
            "Información general del dataset:\n",
            "<class 'pandas.core.frame.DataFrame'>\n",
            "RangeIndex: 1934 entries, 0 to 1933\n",
            "Data columns (total 12 columns):\n",
            " #   Column      Non-Null Count  Dtype         \n",
            "---  ------      --------------  -----         \n",
            " 0   fecha       1934 non-null   datetime64[ns]\n",
            " 1   hora        1934 non-null   int64         \n",
            " 2   autopista   1934 non-null   object        \n",
            " 3   clima       1934 non-null   object        \n",
            " 4   superficie  1934 non-null   object        \n",
            " 5   lesionados  1934 non-null   int64         \n",
            " 6   fallecidos  1934 non-null   int64         \n",
            " 7   siniestro   1934 non-null   object        \n",
            " 8   moto        1934 non-null   int64         \n",
            " 9   liviano     1934 non-null   int64         \n",
            " 10  bus         1934 non-null   int64         \n",
            " 11  camion      1934 non-null   int64         \n",
            "dtypes: datetime64[ns](1), int64(7), object(4)\n",
            "memory usage: 181.4+ KB\n",
            "None\n",
            "\n",
            "Estadísticas descriptivas del dataset:\n",
            "                               fecha         hora   lesionados   fallecidos  \\\n",
            "count                           1934  1934.000000  1934.000000  1934.000000   \n",
            "mean   2024-01-09 04:16:07.942088960    12.459669     0.452947     0.007239   \n",
            "min              2023-01-02 00:00:00     0.000000     0.000000     0.000000   \n",
            "25%              2023-07-12 00:00:00     8.000000     0.000000     0.000000   \n",
            "50%              2023-12-30 12:00:00    13.000000     0.000000     0.000000   \n",
            "75%              2024-07-11 12:00:00    17.000000     1.000000     0.000000   \n",
            "max              2024-12-29 00:00:00    23.000000     6.000000     1.000000   \n",
            "std                              NaN     5.611604     0.734635     0.084795   \n",
            "\n",
            "              moto      liviano          bus       camion  \n",
            "count  1934.000000  1934.000000  1934.000000  1934.000000  \n",
            "mean      0.343330     1.211996     0.046536     0.199586  \n",
            "min       0.000000     0.000000     0.000000     0.000000  \n",
            "25%       0.000000     1.000000     0.000000     0.000000  \n",
            "50%       0.000000     1.000000     0.000000     0.000000  \n",
            "75%       1.000000     2.000000     0.000000     0.000000  \n",
            "max       2.000000     8.000000     2.000000     4.000000  \n",
            "std       0.502466     0.967950     0.224947     0.462208  \n"
          ]
        }
      ]
    },
    {
      "cell_type": "code",
      "source": [
        "# Identificación de valores nulos\n",
        "print(\"\\nValores nulos por columna:\")\n",
        "print(data.isnull().sum())"
      ],
      "metadata": {
        "colab": {
          "base_uri": "https://localhost:8080/"
        },
        "id": "DoQM3IW8rD0J",
        "outputId": "b5ea5aab-2cbe-404c-a323-437ea7f91956"
      },
      "execution_count": 11,
      "outputs": [
        {
          "output_type": "stream",
          "name": "stdout",
          "text": [
            "\n",
            "Valores nulos por columna:\n",
            "fecha         0\n",
            "hora          0\n",
            "autopista     0\n",
            "clima         0\n",
            "superficie    0\n",
            "lesionados    0\n",
            "fallecidos    0\n",
            "siniestro     0\n",
            "moto          0\n",
            "liviano       0\n",
            "bus           0\n",
            "camion        0\n",
            "dtype: int64\n"
          ]
        }
      ]
    },
    {
      "cell_type": "code",
      "source": [
        "# Preparación de datos\n",
        "X = data.drop(columns=['fallecidos', 'lesionados', 'fecha', 'siniestro'])\n",
        "y = data['lesionados']\n",
        "\n",
        "# Conversión de variables categóricas\n",
        "X = pd.get_dummies(X, drop_first=True)\n",
        "\n",
        "# Selección de características\n",
        "k_best = SelectKBest(score_func=chi2, k=5)\n",
        "X_new = k_best.fit_transform(X, y)\n",
        "selected_features = k_best.get_support(indices=True)\n",
        "print(\"Características seleccionadas:\")\n",
        "print(X.columns[selected_features])"
      ],
      "metadata": {
        "colab": {
          "base_uri": "https://localhost:8080/"
        },
        "id": "YSnGNsMOrJDB",
        "outputId": "1af2a673-0395-4f19-97a6-11139ff64e40"
      },
      "execution_count": 12,
      "outputs": [
        {
          "output_type": "stream",
          "name": "stdout",
          "text": [
            "Características seleccionadas:\n",
            "Index(['hora', 'moto', 'liviano', 'autopista_AU PERITO MORENO',\n",
            "       'clima_LLUVIOSO'],\n",
            "      dtype='object')\n"
          ]
        }
      ]
    },
    {
      "cell_type": "code",
      "source": [
        "# División en conjuntos de entrenamiento y prueba\n",
        "X_train, X_test, y_train, y_test = train_test_split(X_new, y, test_size=0.2, random_state=42)\n",
        "\n",
        "# Entrenamiento del modelo\n",
        "clf = RandomForestClassifier(random_state=42)\n",
        "clf.fit(X_train, y_train)\n",
        "\n",
        "# Predicciones\n",
        "y_pred = clf.predict(X_test)"
      ],
      "metadata": {
        "id": "I2XbVm6UrOMS"
      },
      "execution_count": 13,
      "outputs": []
    },
    {
      "cell_type": "code",
      "source": [
        "# Evaluación del modelo\n",
        "print(\"Matriz de confusión:\")\n",
        "print(confusion_matrix(y_test, y_pred))\n",
        "\n",
        "print(\"\\nReporte de clasificación:\")\n",
        "print(classification_report(y_test, y_pred))\n",
        "\n",
        "print(\"\\nPrecisión del modelo: {:.2f}%\".format(accuracy_score(y_test, y_pred) * 100))"
      ],
      "metadata": {
        "colab": {
          "base_uri": "https://localhost:8080/"
        },
        "id": "wzsf2-GPrRa8",
        "outputId": "5eff89a3-dcd7-4ea3-c260-01aa2031d0f1"
      },
      "execution_count": 14,
      "outputs": [
        {
          "output_type": "stream",
          "name": "stdout",
          "text": [
            "Matriz de confusión:\n",
            "[[228  30   2   0   0   0]\n",
            " [ 35  69   3   0   0   0]\n",
            " [  5   8   1   0   0   0]\n",
            " [  2   0   0   0   0   0]\n",
            " [  2   0   0   0   1   0]\n",
            " [  0   0   0   0   0   1]]\n",
            "\n",
            "Reporte de clasificación:\n",
            "              precision    recall  f1-score   support\n",
            "\n",
            "           0       0.84      0.88      0.86       260\n",
            "           1       0.64      0.64      0.64       107\n",
            "           2       0.17      0.07      0.10        14\n",
            "           3       0.00      0.00      0.00         2\n",
            "           4       1.00      0.33      0.50         3\n",
            "           5       1.00      1.00      1.00         1\n",
            "\n",
            "    accuracy                           0.78       387\n",
            "   macro avg       0.61      0.49      0.52       387\n",
            "weighted avg       0.76      0.78      0.76       387\n",
            "\n",
            "\n",
            "Precisión del modelo: 77.52%\n"
          ]
        },
        {
          "output_type": "stream",
          "name": "stderr",
          "text": [
            "/usr/local/lib/python3.10/dist-packages/sklearn/metrics/_classification.py:1531: UndefinedMetricWarning: Precision is ill-defined and being set to 0.0 in labels with no predicted samples. Use `zero_division` parameter to control this behavior.\n",
            "  _warn_prf(average, modifier, f\"{metric.capitalize()} is\", len(result))\n",
            "/usr/local/lib/python3.10/dist-packages/sklearn/metrics/_classification.py:1531: UndefinedMetricWarning: Precision is ill-defined and being set to 0.0 in labels with no predicted samples. Use `zero_division` parameter to control this behavior.\n",
            "  _warn_prf(average, modifier, f\"{metric.capitalize()} is\", len(result))\n",
            "/usr/local/lib/python3.10/dist-packages/sklearn/metrics/_classification.py:1531: UndefinedMetricWarning: Precision is ill-defined and being set to 0.0 in labels with no predicted samples. Use `zero_division` parameter to control this behavior.\n",
            "  _warn_prf(average, modifier, f\"{metric.capitalize()} is\", len(result))\n"
          ]
        }
      ]
    },
    {
      "cell_type": "code",
      "source": [
        "# Conclusiones\n",
        "print(\"### Conclusiones\")\n",
        "print(\"\"\"\n",
        "1. Las características seleccionadas por el método SelectKBest incluyen: {}.\n",
        "   Estas características resultaron ser las más relevantes para predecir el número de lesionados, y pueden ser clave para comprender los factores que influyen en los accidentes.\n",
        "2. El modelo Random Forest alcanzó una precisión del {:.2f}% en el conjunto de prueba, lo que demuestra su capacidad para clasificar correctamente los datos y predecir incidentes con base en las variables seleccionadas.\n",
        "3. Los resultados sugieren que variables como las condiciones climáticas y el horario del accidente tienen una relación significativa con el número de víctimas.\n",
        "\"\"\".format(X.columns[selected_features], accuracy_score(y_test, y_pred) * 100))\n",
        "\n",
        "# Recomendaciones\n",
        "print(\"### Recomendaciones\")\n",
        "print(\"\"\"\n",
        "1. Implementar medidas preventivas en horarios identificados como de alto riesgo, por ejemplo, en franjas nocturnas o durante condiciones climáticas adversas.\n",
        "2. Monitorear con mayor frecuencia las autopistas específicas que presentan un mayor número de siniestros, y evaluar la implementación de medidas como mayor señalización o controles de velocidad.\n",
        "3. Utilizar los insights obtenidos para optimizar los recursos de emergencia, priorizando áreas y horarios críticos para reducir los tiempos de respuesta en accidentes.\n",
        "4. Ampliar el análisis con más datos, como factores socioeconómicos, datos del tráfico y reportes de mantenimiento vial, para enriquecer el modelo y generar predicciones más robustas.\n",
        "5. Comunicar los hallazgos a las autoridades pertinentes para diseñar campañas de concientización sobre seguridad vial dirigidas a conductores.\n",
        "\"\"\")\n"
      ],
      "metadata": {
        "colab": {
          "base_uri": "https://localhost:8080/"
        },
        "id": "spFlCi0QrnPu",
        "outputId": "2d60abb5-cd64-41b9-8217-5679b0a575d1"
      },
      "execution_count": 15,
      "outputs": [
        {
          "output_type": "stream",
          "name": "stdout",
          "text": [
            "### Conclusiones\n",
            "\n",
            "1. Las características seleccionadas por el método SelectKBest incluyen: Index(['hora', 'moto', 'liviano', 'autopista_AU PERITO MORENO',\n",
            "       'clima_LLUVIOSO'],\n",
            "      dtype='object').\n",
            "   Estas características resultaron ser las más relevantes para predecir el número de lesionados, y pueden ser clave para comprender los factores que influyen en los accidentes.\n",
            "2. El modelo Random Forest alcanzó una precisión del 77.52% en el conjunto de prueba, lo que demuestra su capacidad para clasificar correctamente los datos y predecir incidentes con base en las variables seleccionadas.\n",
            "3. Los resultados sugieren que variables como las condiciones climáticas y el horario del accidente tienen una relación significativa con el número de víctimas.\n",
            "\n",
            "### Recomendaciones\n",
            "\n",
            "1. Implementar medidas preventivas en horarios identificados como de alto riesgo, por ejemplo, en franjas nocturnas o durante condiciones climáticas adversas.\n",
            "2. Monitorear con mayor frecuencia las autopistas específicas que presentan un mayor número de siniestros, y evaluar la implementación de medidas como mayor señalización o controles de velocidad.\n",
            "3. Utilizar los insights obtenidos para optimizar los recursos de emergencia, priorizando áreas y horarios críticos para reducir los tiempos de respuesta en accidentes.\n",
            "4. Ampliar el análisis con más datos, como factores socioeconómicos, datos del tráfico y reportes de mantenimiento vial, para enriquecer el modelo y generar predicciones más robustas.\n",
            "5. Comunicar los hallazgos a las autoridades pertinentes para diseñar campañas de concientización sobre seguridad vial dirigidas a conductores.\n",
            "\n"
          ]
        }
      ]
    }
  ]
}